{
  "nbformat": 4,
  "nbformat_minor": 0,
  "metadata": {
    "colab": {
      "name": "dp.ipynb",
      "provenance": [],
      "collapsed_sections": [],
      "authorship_tag": "ABX9TyOkcm9/WqY/c87XqKp9jPQF",
      "include_colab_link": true
    },
    "kernelspec": {
      "name": "python3",
      "display_name": "Python 3"
    }
  },
  "cells": [
    {
      "cell_type": "markdown",
      "metadata": {
        "id": "view-in-github",
        "colab_type": "text"
      },
      "source": [
        "<a href=\"https://colab.research.google.com/github/amitthakur2013/HashMap_new/blob/master/dp.ipynb\" target=\"_parent\"><img src=\"https://colab.research.google.com/assets/colab-badge.svg\" alt=\"Open In Colab\"/></a>"
      ]
    },
    {
      "cell_type": "code",
      "metadata": {
        "id": "ztj1Z0Akm4Pb",
        "colab_type": "code",
        "outputId": "76f4e559-3c71-4ecf-95ad-53e3e92b2b56",
        "colab": {
          "base_uri": "https://localhost:8080/",
          "height": 68
        }
      },
      "source": [
        "#Frog1\n",
        "--------------\n",
        "n=int(input())\n",
        "h=list(map(int,input().split()))\n",
        "dp=[0 for _ in range(n)]\n",
        "dp[1]=abs(h[1]-h[0])\n",
        "for i in range(2,n):\n",
        "  dp[i]=min((dp[i-1]+abs(h[i]-h[i-1])),(dp[i-2]+abs(h[i]-h[i-2])))\n",
        "print(dp[n-1])"
      ],
      "execution_count": 0,
      "outputs": [
        {
          "output_type": "stream",
          "text": [
            "6\n",
            "30 10 60 10 60 50\n",
            "40\n"
          ],
          "name": "stdout"
        }
      ]
    },
    {
      "cell_type": "code",
      "metadata": {
        "id": "uj9_WMOltZNw",
        "colab_type": "code",
        "outputId": "70ebd0f1-8a99-45d9-a150-e22883f99621",
        "colab": {
          "base_uri": "https://localhost:8080/",
          "height": 68
        }
      },
      "source": [
        "#Frog2\n",
        "\n",
        "n,k=map(int,input().split())\n",
        "h=list(map(int,input().split()))\n",
        "dp=[999999999 for _ in range(n)]\n",
        "dp[0]=0\n",
        "for i in range(0,n):\n",
        "  for j in range(i+1,i+k+1):\n",
        "    if j<n:\n",
        "      dp[j]=min(dp[j],dp[i]+abs(h[i]-h[j]))\n",
        "print(dp[n-1])"
      ],
      "execution_count": 0,
      "outputs": [
        {
          "output_type": "stream",
          "text": [
            "5 3\n",
            "10 30 40 50 20\n",
            "30\n"
          ],
          "name": "stdout"
        }
      ]
    },
    {
      "cell_type": "code",
      "metadata": {
        "id": "SuK0-n7bx7JY",
        "colab_type": "code",
        "outputId": "d068f337-ef9f-461a-d011-bed252491be5",
        "colab": {
          "base_uri": "https://localhost:8080/",
          "height": 51
        }
      },
      "source": [
        "#Minimum Steps to reach 1\n",
        "#Bottom Up Approach\n",
        "import math\n",
        "n=int(input())\n",
        "dp=[0 for _ in range(n+1)]\n",
        "for i in range(2,n+1):\n",
        "  op1=op2=op3=math.inf\n",
        "  if i%2==0:\n",
        "    op1=dp[i//2]+1\n",
        "  if i%3 == 0:\n",
        "    op2=dp[i//3]+1\n",
        "  op3=dp[i-1]+1\n",
        "  dp[i]=min(op1,op2,op3)\n",
        "print(dp[n])"
      ],
      "execution_count": 0,
      "outputs": [
        {
          "output_type": "stream",
          "text": [
            "5\n",
            "3\n"
          ],
          "name": "stdout"
        }
      ]
    },
    {
      "cell_type": "code",
      "metadata": {
        "id": "DgpO2jBJeP82",
        "colab_type": "code",
        "outputId": "95127600-c298-4bcc-cd3e-c7bd8f6757ce",
        "colab": {
          "base_uri": "https://localhost:8080/",
          "height": 51
        }
      },
      "source": [
        "#Minimum Steps to reach 1\n",
        "#Top Down Approach\n",
        "import math\n",
        "def minSteps(n,dp):\n",
        "  # Base case\n",
        "  if n==1:\n",
        "    return 0\n",
        "\n",
        "  #Lookup case \n",
        "  if dp[n] != 0:\n",
        "    return dp[n]\n",
        "  \n",
        "  #Recursive case\n",
        "  op1=op2=op3=math.inf\n",
        "  if n%3 == 0:\n",
        "    op1=minSteps(n//3,dp)+1\n",
        "  if n%2 == 0:\n",
        "    op2=minSteps(n//2,dp)+1\n",
        "  op3=minSteps(n-1,dp)+1\n",
        "  dp[n]=min(op1,op2,op3)\n",
        "  return dp[n]\n",
        "\n",
        "n=int(input())\n",
        "dp=[0 for _ in range(n+1)]\n",
        "print(minSteps(n,dp))\n",
        "\n"
      ],
      "execution_count": 0,
      "outputs": [
        {
          "output_type": "stream",
          "text": [
            "5\n",
            "3\n"
          ],
          "name": "stdout"
        }
      ]
    },
    {
      "cell_type": "code",
      "metadata": {
        "id": "7dt_-jYZiXHH",
        "colab_type": "code",
        "colab": {}
      },
      "source": [
        "#Min Coins required to make a change(Coins - 1)\n",
        "# Bottom Approach\n",
        "import math\n",
        "coins= list(map(int,input().split()))\n",
        "amt=int(input())\n",
        "dp=[math.inf for _ in range(amt+1)]\n",
        "dp[0]=0\n",
        "for i in range(1,amt+1):\n",
        "  for j in coins:\n",
        "    if i-j>=0:\n",
        "      dp[i]=min(dp[i],dp[i-j]+1)\n",
        "print(dp[amt])"
      ],
      "execution_count": 0,
      "outputs": []
    },
    {
      "cell_type": "code",
      "metadata": {
        "id": "UOinPVQUkHaF",
        "colab_type": "code",
        "outputId": "d80264c8-f1de-45bf-c410-60e517a946ba",
        "colab": {
          "base_uri": "https://localhost:8080/",
          "height": 68
        }
      },
      "source": [
        "#Min Coins required to make a change(Coins - 1)\n",
        "# Top Down\n",
        "import math\n",
        "def min_coins(n,dp,coins):\n",
        "  if n==0:\n",
        "    return 0\n",
        "  if dp[n] != 0:\n",
        "    return dp[n]\n",
        "\n",
        "  ans=math.inf\n",
        "  for i in coins:\n",
        "    if n-i>=0:\n",
        "      subprob=min_coins(n-i,dp,coins)\n",
        "      ans=min(ans,subprob+1)\n",
        "  dp[n]=ans\n",
        "  return dp[n]\n",
        "\n",
        "coins= list(map(int,input().split()))\n",
        "amt=int(input())\n",
        "dp=[0 for _ in range(amt+1)]\n",
        "print(min_coins(amt,dp,coins))"
      ],
      "execution_count": 0,
      "outputs": [
        {
          "output_type": "stream",
          "text": [
            "1 7 11\n",
            "15\n",
            "3\n"
          ],
          "name": "stdout"
        }
      ]
    },
    {
      "cell_type": "code",
      "metadata": {
        "id": "Oy4Fp38WLMEX",
        "colab_type": "code",
        "outputId": "b712360a-d19c-482b-e58e-cd6d6958e5d2",
        "colab": {
          "base_uri": "https://localhost:8080/",
          "height": 51
        }
      },
      "source": [
        "#Wines Problem DP\n",
        "# Top Down approach\n",
        "\n",
        "def profit(wines, i, j, y,dp):\n",
        "  if i>j:\n",
        "    return 0\n",
        "  \n",
        "  if dp[i][j] !=0:\n",
        "    return dp[i][j]\n",
        "\n",
        "  #Recursive case\n",
        "  op1=wines[i]*y + profit(wines, i+1, j, y+1,dp)\n",
        "  op2=wines[j]*y + profit(wines, i, j-1, y+1,dp)\n",
        "  dp[i][j]=max(op1,op2)\n",
        "  return dp[i][j]\n",
        "\n",
        "wines=list(map(int,input().split()))\n",
        "n=len(wines)-1\n",
        "dp=[[0 for _ in range(n+1)]for __ in range(n+1)]\n",
        "y=1\n",
        "print(profit(wines, 0, n, y,dp))\n"
      ],
      "execution_count": 0,
      "outputs": [
        {
          "output_type": "stream",
          "text": [
            "2 3 5 1 4\n",
            "50\n"
          ],
          "name": "stdout"
        }
      ]
    },
    {
      "cell_type": "code",
      "metadata": {
        "id": "k1xA5x3-bJdS",
        "colab_type": "code",
        "colab": {}
      },
      "source": [
        ""
      ],
      "execution_count": 0,
      "outputs": []
    }
  ]
}