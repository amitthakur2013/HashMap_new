{
  "nbformat": 4,
  "nbformat_minor": 0,
  "metadata": {
    "colab": {
      "name": "HashMaps.ipynb",
      "provenance": [],
      "collapsed_sections": [],
      "authorship_tag": "ABX9TyMYNccjpmxjBa4mKQKv4NiA",
      "include_colab_link": true
    },
    "kernelspec": {
      "name": "python3",
      "display_name": "Python 3"
    }
  },
  "cells": [
    {
      "cell_type": "markdown",
      "metadata": {
        "id": "view-in-github",
        "colab_type": "text"
      },
      "source": [
        "<a href=\"https://colab.research.google.com/github/amitthakur2013/HashMap_new/blob/master/HashMaps.ipynb\" target=\"_parent\"><img src=\"https://colab.research.google.com/assets/colab-badge.svg\" alt=\"Open In Colab\"/></a>"
      ]
    },
    {
      "cell_type": "code",
      "metadata": {
        "id": "yE27QLJ2ZBeq",
        "colab_type": "code",
        "colab": {}
      },
      "source": [
        "class HashMap:\n",
        "\n",
        "  def __init__(self, initial_size= 10):\n",
        "    self.bucket_array= [None for _ in range(initial_size)]\n",
        "    self.p= 31\n",
        "    self.num_entries= 0\n",
        "\n",
        "  def put(self, key, value):\n",
        "    pass\n",
        "\n",
        "  def get(self, key):\n",
        "    pass\n",
        "\n",
        "  def get_bucket_index(self, key):\n",
        "    key=str(key)\n",
        "    num_buckets=len(self.bucket_array)\n",
        "\n",
        "    current_coefficient = 1\n",
        "\n",
        "    hash_code=0\n",
        "\n",
        "    for character in key:\n",
        "      hash_code+=ord(character) * current_coefficient\n",
        "      has_code=hash_code%num_buckets\n",
        "      current_coefficient*=self.p \n",
        "      current_coefficient %=num_buckets\n",
        "    return hash_code % num_buckets\n",
        "\n",
        "  def size(self):\n",
        "    return self.num_entries"
      ],
      "execution_count": 0,
      "outputs": []
    },
    {
      "cell_type": "code",
      "metadata": {
        "id": "JO1mfUw-b8fx",
        "colab_type": "code",
        "colab": {
          "base_uri": "https://localhost:8080/",
          "height": 34
        },
        "outputId": "ab9d80a9-7a4b-47f5-924d-5d86aa23ec6d"
      },
      "source": [
        "HashMap().get_bucket_index(\"a\")"
      ],
      "execution_count": 5,
      "outputs": [
        {
          "output_type": "execute_result",
          "data": {
            "text/plain": [
              "7"
            ]
          },
          "metadata": {
            "tags": []
          },
          "execution_count": 5
        }
      ]
    },
    {
      "cell_type": "code",
      "metadata": {
        "id": "65Ss0H3bcGXx",
        "colab_type": "code",
        "colab": {}
      },
      "source": [
        "class LinkedListNode:\n",
        "\n",
        "  def __init__(self, key, value):\n",
        "    self.key =  key\n",
        "    self.value = value\n",
        "    self.next = None\n",
        "\n",
        "class HashMap:\n",
        "\n",
        "  def __init__(self, initial_size=10):\n",
        "    self.bucket_array=[None for _ in range(initial_size)]\n",
        "    self.p=31\n",
        "    self.num_entries=0\n",
        "    self.load_factor=0.7\n",
        "\n",
        "  def put(self,key, value):\n",
        "    bucket_index= self.get_bucket_index(key)\n",
        "\n",
        "    new_node = LinkedListNode(key, value)\n",
        "    head = self.bucket_array[bucket_index]\n",
        "\n",
        "    #check if key is already present in the map, and update it's value\n",
        "    while head is not None:\n",
        "      if head.key==key:\n",
        "        head.value=value\n",
        "        return\n",
        "      head=head.next\n",
        "\n",
        "    # key not found in the chain --> create a new entry and place it at the head of the chain\n",
        "    head=self.bucket_array[bucket_index]\n",
        "    new_node.next=head\n",
        "    self.bucket_array[bucket_index]=new_node \n",
        "    self.num_entries+=1\n",
        "\n",
        "    #check for load factor\n",
        "    current_load_factor = self.num_entries / len(self.bucket_array)\n",
        "    if current_load_factor>self.load_factor:\n",
        "      self.num_entries=0\n",
        "      self._rehash()\n",
        "\n",
        "  def get(self,key):\n",
        "    bucket_index = self.get_hash_code(key)\n",
        "    head=self.bucket_array[bucket_index]\n",
        "    while head is not None:\n",
        "      if head.key == key:\n",
        "        return head.value\n",
        "      head=head.next\n",
        "    return None\n",
        "\n",
        "  def get_bucket_index(self,key):\n",
        "    bucket_index=self.get_hash_code(key)\n",
        "    return bucket_index\n",
        "\n",
        "  def get_hash_code(self, key):\n",
        "    key=str(key)\n",
        "    num_buckets=len(self.bucket_array)\n",
        "\n",
        "    current_coefficient = 1\n",
        "\n",
        "    hash_code=0\n",
        "\n",
        "    for character in key:\n",
        "      hash_code+=ord(character) * current_coefficient\n",
        "      has_code=hash_code%num_buckets\n",
        "      current_coefficient*=self.p \n",
        "      current_coefficient %=num_buckets\n",
        "    return hash_code % num_buckets\n",
        "\n",
        "  def size(self):\n",
        "    return self.num_entries\n",
        "\n",
        "  def delete(self, key):\n",
        "    bucket_index = self.get_bucket_index(key)\n",
        "    head=self.bucket_array[bucket_index]\n",
        "\n",
        "    previous= None\n",
        "    while head is not None:\n",
        "      if head.key== key:\n",
        "        if previous is None:\n",
        "          self.bucket_array[bucket_index] =head.next \n",
        "        else:\n",
        "          previous.next=head.next\n",
        "        self.num_entries -= 1\n",
        "        return \n",
        "      else:\n",
        "        previous=head\n",
        "        head=head.next\n",
        "\n",
        "  def _rehash(self):\n",
        "    old_num_buckets=len(self.bucket_array)\n",
        "    old_bucket_array=self.bucket_array\n",
        "    num_brackets=2*old_num_buckets\n",
        "    self.bucket_array=[None for _ in range(num_buckets)]\n",
        "\n",
        "    for head in old_bucket_array:\n",
        "      while head is not None:\n",
        "        key=head.key \n",
        "        value=head.value \n",
        "        self.put(key,value)\n",
        "        head=head.next\n"
      ],
      "execution_count": 0,
      "outputs": []
    },
    {
      "cell_type": "code",
      "metadata": {
        "id": "_fMRTsXRnV2f",
        "colab_type": "code",
        "colab": {
          "base_uri": "https://localhost:8080/",
          "height": 136
        },
        "outputId": "465a0c6d-941f-4b23-a82a-d20b0b088b1b"
      },
      "source": [
        "hash_map = HashMap()\n",
        "\n",
        "hash_map.put(\"one\", 1)\n",
        "hash_map.put(\"two\", 2)\n",
        "hash_map.put(\"three\", 3)\n",
        "hash_map.put(\"neo\", 11)\n",
        "\n",
        "print(\"size: {}\".format(hash_map.size()))\n",
        "\n",
        "\n",
        "print(\"one: {}\".format(hash_map.get(\"one\")))\n",
        "print(\"neo: {}\".format(hash_map.get(\"neo\")))\n",
        "print(\"three: {}\".format(hash_map.get(\"three\")))\n",
        "print(\"size: {}\".format(hash_map.size()))\n",
        "\n",
        "hash_map.delete(\"one\")\n",
        "\n",
        "print(hash_map.get(\"one\"))\n",
        "print(hash_map.size())"
      ],
      "execution_count": 13,
      "outputs": [
        {
          "output_type": "stream",
          "text": [
            "size: 4\n",
            "one: 1\n",
            "neo: 11\n",
            "three: 3\n",
            "size: 4\n",
            "None\n",
            "3\n"
          ],
          "name": "stdout"
        }
      ]
    },
    {
      "cell_type": "code",
      "metadata": {
        "id": "Yodkuyy9nf2k",
        "colab_type": "code",
        "colab": {}
      },
      "source": [
        ""
      ],
      "execution_count": 0,
      "outputs": []
    }
  ]
}